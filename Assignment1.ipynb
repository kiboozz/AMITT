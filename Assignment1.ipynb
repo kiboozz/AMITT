{
  "nbformat": 4,
  "nbformat_minor": 0,
  "metadata": {
    "colab": {
      "provenance": [],
      "authorship_tag": "ABX9TyOwzi8YOYbJjxy2v7Vcy6+w",
      "include_colab_link": true
    },
    "kernelspec": {
      "name": "python3",
      "display_name": "Python 3"
    },
    "language_info": {
      "name": "python"
    }
  },
  "cells": [
    {
      "cell_type": "markdown",
      "metadata": {
        "id": "view-in-github",
        "colab_type": "text"
      },
      "source": [
        "<a href=\"https://colab.research.google.com/github/kiboozz/AMITT/blob/python/Assignment1.ipynb\" target=\"_parent\"><img src=\"https://colab.research.google.com/assets/colab-badge.svg\" alt=\"Open In Colab\"/></a>"
      ]
    },
    {
      "cell_type": "code",
      "source": [
        "G = float(input(\"G=  \"))"
      ],
      "metadata": {
        "id": "5G8wyjMIHeSH"
      },
      "execution_count": null,
      "outputs": []
    },
    {
      "cell_type": "code",
      "execution_count": null,
      "metadata": {
        "id": "BvWmHsyDNWOy"
      },
      "outputs": [],
      "source": [
        "M1 = float(input(\"Enter The First Mass:\"))"
      ]
    },
    {
      "cell_type": "code",
      "source": [
        "M2 = float(input(\"Enter The Second Mass:\"))"
      ],
      "metadata": {
        "id": "lMz0WhJZN7Yq"
      },
      "execution_count": null,
      "outputs": []
    },
    {
      "cell_type": "code",
      "source": [
        "r= float(input(\"Enter The Distance Between The Masses:\"))"
      ],
      "metadata": {
        "id": "OTWrYpTAkbBI"
      },
      "execution_count": null,
      "outputs": []
    },
    {
      "cell_type": "code",
      "source": [
        "G = G*(10**-11)"
      ],
      "metadata": {
        "id": "yEOLicRYkbPl"
      },
      "execution_count": 18,
      "outputs": []
    },
    {
      "cell_type": "code",
      "source": [
        "print(f\"result:{G}\")"
      ],
      "metadata": {
        "id": "Plh5aGUHIaCL"
      },
      "execution_count": null,
      "outputs": []
    },
    {
      "cell_type": "code",
      "source": [
        "M1 = M1*(10**24)"
      ],
      "metadata": {
        "id": "34LEcZ2xoHSJ"
      },
      "execution_count": 8,
      "outputs": []
    },
    {
      "cell_type": "code",
      "source": [
        "print(f\"result:{M1}\")"
      ],
      "metadata": {
        "id": "Wo44h-u9IvFX"
      },
      "execution_count": null,
      "outputs": []
    },
    {
      "cell_type": "code",
      "source": [
        "M2 = M2*(10**22)"
      ],
      "metadata": {
        "id": "3ESUK27soHbb"
      },
      "execution_count": 10,
      "outputs": []
    },
    {
      "cell_type": "code",
      "source": [
        "print(f\"result:{M2}\")"
      ],
      "metadata": {
        "id": "xnUVzPL1Iwix"
      },
      "execution_count": null,
      "outputs": []
    },
    {
      "cell_type": "code",
      "source": [
        "r = r*(10**8)"
      ],
      "metadata": {
        "id": "yarDn1M1oHeN"
      },
      "execution_count": 12,
      "outputs": []
    },
    {
      "cell_type": "code",
      "source": [
        "print(f\"result:{r}\")"
      ],
      "metadata": {
        "id": "mEWzB42zIxlB"
      },
      "execution_count": null,
      "outputs": []
    },
    {
      "cell_type": "code",
      "source": [
        "Fg = (G*M1*M2)*(r**2)"
      ],
      "metadata": {
        "id": "UwtVXiwKlKgw"
      },
      "execution_count": 20,
      "outputs": []
    },
    {
      "cell_type": "code",
      "source": [
        "print(f\"Result:{Fg}\",\"N\")"
      ],
      "metadata": {
        "id": "yA3_OYYzm841"
      },
      "execution_count": null,
      "outputs": []
    }
  ]
}