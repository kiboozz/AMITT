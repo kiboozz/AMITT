{
  "nbformat": 4,
  "nbformat_minor": 0,
  "metadata": {
    "colab": {
      "provenance": [],
      "authorship_tag": "ABX9TyOwzi8YOYbJjxy2v7Vcy6+w",
      "include_colab_link": true
    },
    "kernelspec": {
      "name": "python3",
      "display_name": "Python 3"
    },
    "language_info": {
      "name": "python"
    }
  },
  "cells": [
    {
      "cell_type": "markdown",
      "metadata": {
        "id": "view-in-github",
        "colab_type": "text"
      },
      "source": [
        "<a href=\"https://colab.research.google.com/github/kiboozz/AMITT/blob/python/Assignment1.ipynb\" target=\"_parent\"><img src=\"https://colab.research.google.com/assets/colab-badge.svg\" alt=\"Open In Colab\"/></a>"
      ]
    },
    {
      "cell_type": "code",
      "source": [
        "G = float(input(\"G=  \"))"
      ],
      "metadata": {
        "colab": {
          "base_uri": "https://localhost:8080/"
        },
        "id": "5G8wyjMIHeSH",
        "outputId": "b642d47a-d556-4b04-80f2-5c0e33732599"
      },
      "execution_count": 1,
      "outputs": [
        {
          "name": "stdout",
          "output_type": "stream",
          "text": [
            "G=  6.67\n"
          ]
        }
      ]
    },
    {
      "cell_type": "code",
      "execution_count": 2,
      "metadata": {
        "id": "BvWmHsyDNWOy",
        "colab": {
          "base_uri": "https://localhost:8080/"
        },
        "outputId": "9594b372-1346-4806-e096-b636afbcd04f"
      },
      "outputs": [
        {
          "name": "stdout",
          "output_type": "stream",
          "text": [
            "Enter The First Mass:6.0\n"
          ]
        }
      ],
      "source": [
        "M1 = float(input(\"Enter The First Mass:\"))"
      ]
    },
    {
      "cell_type": "code",
      "source": [
        "M2 = float(input(\"Enter The Second Mass:\"))"
      ],
      "metadata": {
        "id": "E2s7Gw0wNq_y",
        "colab": {
          "base_uri": "https://localhost:8080/"
        },
        "outputId": "ba1fbe25-b70a-4b35-9c4a-be37eb6cdb2d"
      },
      "execution_count": 3,
      "outputs": [
        {
          "name": "stdout",
          "output_type": "stream",
          "text": [
            "Enter The Second Mass:7.34\n"
          ]
        }
      ]
    },
    {
      "cell_type": "code",
      "source": [
        "r= float(input(\"Enter The Distance Between The Masses:\"))"
      ],
      "metadata": {
        "colab": {
          "base_uri": "https://localhost:8080/"
        },
        "id": "OTWrYpTAkbBI",
        "outputId": "c2e81e5a-471b-4c45-eae5-b06c76aca2e5"
      },
      "execution_count": 4,
      "outputs": [
        {
          "name": "stdout",
          "output_type": "stream",
          "text": [
            "Enter The Distance Between The Masses:3.84\n"
          ]
        }
      ]
    },
    {
      "cell_type": "code",
      "source": [
        "G = G*(10**-11)"
      ],
      "metadata": {
        "id": "yEOLicRYkbPl"
      },
      "execution_count": 18,
      "outputs": []
    },
    {
      "cell_type": "code",
      "source": [
        "print(f\"result:{G}\")"
      ],
      "metadata": {
        "colab": {
          "base_uri": "https://localhost:8080/"
        },
        "id": "Plh5aGUHIaCL",
        "outputId": "1ace9d1b-ff11-4bb3-9b0d-b0593391f719"
      },
      "execution_count": 19,
      "outputs": [
        {
          "output_type": "stream",
          "name": "stdout",
          "text": [
            "result:6.67e-22\n"
          ]
        }
      ]
    },
    {
      "cell_type": "code",
      "source": [
        "M1 = M1*(10**24)"
      ],
      "metadata": {
        "id": "34LEcZ2xoHSJ"
      },
      "execution_count": 8,
      "outputs": []
    },
    {
      "cell_type": "code",
      "source": [
        "print(f\"result:{M1}\")"
      ],
      "metadata": {
        "colab": {
          "base_uri": "https://localhost:8080/"
        },
        "id": "Wo44h-u9IvFX",
        "outputId": "120f19a1-6c0e-49e0-fbea-d9d58e23927d"
      },
      "execution_count": 9,
      "outputs": [
        {
          "output_type": "stream",
          "name": "stdout",
          "text": [
            "result:6e+24\n"
          ]
        }
      ]
    },
    {
      "cell_type": "code",
      "source": [
        "M2 = M2*(10**22)"
      ],
      "metadata": {
        "id": "3ESUK27soHbb"
      },
      "execution_count": 10,
      "outputs": []
    },
    {
      "cell_type": "code",
      "source": [
        "print(f\"result:{M2}\")"
      ],
      "metadata": {
        "colab": {
          "base_uri": "https://localhost:8080/"
        },
        "id": "xnUVzPL1Iwix",
        "outputId": "36f76f5e-78e4-472e-870b-c867d73a536c"
      },
      "execution_count": 11,
      "outputs": [
        {
          "output_type": "stream",
          "name": "stdout",
          "text": [
            "result:7.34e+22\n"
          ]
        }
      ]
    },
    {
      "cell_type": "code",
      "source": [
        "r = r*(10**8)"
      ],
      "metadata": {
        "id": "yarDn1M1oHeN"
      },
      "execution_count": 12,
      "outputs": []
    },
    {
      "cell_type": "code",
      "source": [
        "print(f\"result:{r}\")"
      ],
      "metadata": {
        "colab": {
          "base_uri": "https://localhost:8080/"
        },
        "id": "mEWzB42zIxlB",
        "outputId": "76a369b9-f949-4047-cfa6-bc37551c0a72"
      },
      "execution_count": 14,
      "outputs": [
        {
          "output_type": "stream",
          "name": "stdout",
          "text": [
            "result:384000000.0\n"
          ]
        }
      ]
    },
    {
      "cell_type": "code",
      "source": [
        "Fg = (G*M1*M2)*(r**2)"
      ],
      "metadata": {
        "id": "UwtVXiwKlKgw"
      },
      "execution_count": 20,
      "outputs": []
    },
    {
      "cell_type": "code",
      "source": [
        "print(f\"Result:{Fg}\",\"N\")"
      ],
      "metadata": {
        "colab": {
          "base_uri": "https://localhost:8080/"
        },
        "id": "yA3_OYYzm841",
        "outputId": "36f31fe7-9b20-4db1-f4f6-0bdb99b023f1"
      },
      "execution_count": 21,
      "outputs": [
        {
          "output_type": "stream",
          "name": "stdout",
          "text": [
            "Result:4.33147281408e+43 N\n"
          ]
        }
      ]
    }
  ]
}